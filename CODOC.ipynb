{
  "nbformat": 4,
  "nbformat_minor": 0,
  "metadata": {
    "colab": {
      "provenance": [],
      "authorship_tag": "ABX9TyPqiiy54znxXFRkMYUkfRcS",
      "include_colab_link": true
    },
    "kernelspec": {
      "name": "python3",
      "display_name": "Python 3"
    },
    "language_info": {
      "name": "python"
    }
  },
  "cells": [
    {
      "cell_type": "markdown",
      "metadata": {
        "id": "view-in-github",
        "colab_type": "text"
      },
      "source": [
        "<a href=\"https://colab.research.google.com/github/aditya161205/codoc/blob/main/CODOC.ipynb\" target=\"_parent\"><img src=\"https://colab.research.google.com/assets/colab-badge.svg\" alt=\"Open In Colab\"/></a>"
      ]
    },
    {
      "cell_type": "code",
      "execution_count": null,
      "metadata": {
        "colab": {
          "base_uri": "https://localhost:8080/"
        },
        "id": "Xjmo6MBsrE3R",
        "outputId": "5b98629e-8811-4e59-c670-ab48c2d18967"
      },
      "outputs": [
        {
          "output_type": "stream",
          "name": "stdout",
          "text": [
            "Requirement already satisfied: GitPython in /usr/local/lib/python3.12/dist-packages (3.1.45)\n",
            "Requirement already satisfied: gitdb<5,>=4.0.1 in /usr/local/lib/python3.12/dist-packages (from GitPython) (4.0.12)\n",
            "Requirement already satisfied: smmap<6,>=3.0.1 in /usr/local/lib/python3.12/dist-packages (from gitdb<5,>=4.0.1->GitPython) (5.0.2)\n"
          ]
        }
      ],
      "source": [
        "!pip install GitPython\n",
        "\n",
        "import os\n",
        "import ast\n",
        "from git import Repo"
      ]
    },
    {
      "cell_type": "code",
      "source": [
        "import os\n",
        "from git import Repo\n",
        "import shutil\n",
        "\n",
        "repo_url = \"https://github.com/aditya161205/mock\"\n",
        "local_dir = \"dir\"\n",
        "\n",
        "# Remove the directory if it exists and is not empty\n",
        "if os.path.exists(local_dir) and os.path.isdir(local_dir):\n",
        "    shutil.rmtree(local_dir)\n",
        "\n",
        "repo = Repo.clone_from(repo_url, local_dir)"
      ],
      "metadata": {
        "collapsed": true,
        "id": "OtQXN3oXrTUx"
      },
      "execution_count": 24,
      "outputs": []
    },
    {
      "cell_type": "code",
      "source": [
        "import os\n",
        "import ast\n",
        "from git import Repo\n",
        "\n",
        "def parsing(file_path):\n",
        "  try:\n",
        "    with open(file_path, \"r\") as file:\n",
        "        content = file.read()\n",
        "    tree=ast.parse(content)\n",
        "\n",
        "    functions=[]\n",
        "    classes=[]\n",
        "\n",
        "    for node in ast.walk(tree):\n",
        "      if isinstance(node, ast.FunctionDef):\n",
        "        functions.append(node.name)\n",
        "      elif isinstance(node, ast.ClassDef):\n",
        "        classes.append(node.name)\n",
        "\n",
        "    return functions, classes\n",
        "\n",
        "  except SyntaxError as e:\n",
        "    print(f\"SyntaxError parsing {file_path}: {e}\")\n",
        "    return [], [] # Return empty lists for functions and classes in case of error\n",
        "  except Exception as e:\n",
        "    print(f\"Error parsing {file_path}: {e}\")\n",
        "    return [], [] # Handle other potential errors during parsing"
      ],
      "metadata": {
        "id": "patIuF_bryis"
      },
      "execution_count": 25,
      "outputs": []
    },
    {
      "cell_type": "code",
      "source": [
        "for root,dirs,files in os.walk(local_dir):\n",
        "  for file in files:\n",
        "    if file.endswith(\".py\"):\n",
        "      file_path=os.path.join(root,file)\n",
        "      functions,classes=parsing(file_path)\n",
        "      # You can now process the extracted functions and classes.\n",
        "      # For example, you could print them:\n",
        "      print(\"Functions:\", functions)\n",
        "      print(\"Classes:\", classes)"
      ],
      "metadata": {
        "colab": {
          "base_uri": "https://localhost:8080/"
        },
        "id": "SY_JXAt_skbr",
        "outputId": "afc697f5-c38d-4c73-d0cb-ceb3ab576632"
      },
      "execution_count": 26,
      "outputs": [
        {
          "output_type": "stream",
          "name": "stdout",
          "text": [
            "Functions: ['add_numbers', 'multiply_numbers', 'is_even', 'greet', '__init__', 'add', 'multiply', '__init__', 'introduce', 'is_adult']\n",
            "Classes: ['Calculator', 'Person']\n"
          ]
        }
      ]
    },
    {
      "cell_type": "code",
      "source": [],
      "metadata": {
        "id": "vntfGjPmu0BU"
      },
      "execution_count": null,
      "outputs": []
    }
  ]
}