{
  "nbformat": 4,
  "nbformat_minor": 0,
  "metadata": {
    "colab": {
      "provenance": [],
      "authorship_tag": "ABX9TyM0hMNSAhPxMBB51UF1x/aw",
      "include_colab_link": true
    },
    "kernelspec": {
      "name": "python3",
      "display_name": "Python 3"
    },
    "language_info": {
      "name": "python"
    }
  },
  "cells": [
    {
      "cell_type": "markdown",
      "metadata": {
        "id": "view-in-github",
        "colab_type": "text"
      },
      "source": [
        "<a href=\"https://colab.research.google.com/github/aditya161205/codoc/blob/main/CODOC.ipynb\" target=\"_parent\"><img src=\"https://colab.research.google.com/assets/colab-badge.svg\" alt=\"Open In Colab\"/></a>"
      ]
    },
    {
      "cell_type": "code",
      "source": [
        "!pip install GitPython\n",
        "\n",
        "import os\n",
        "import ast\n",
        "from git import Repo"
      ],
      "metadata": {
        "id": "bblehjuFMEQw"
      },
      "execution_count": null,
      "outputs": []
    },
    {
      "cell_type": "code",
      "source": [
        "\n",
        "\n",
        "# Clone a GitHub Repository\n",
        "repo_url = \"...\"  # Replace with the repository URL\n",
        "repo_dir = \"...\"  # Directory to clone\n",
        "\n",
        "if not os.path.exists(repo_dir):\n",
        "    Repo.clone_from(repo_url, repo_dir)\n",
        "    print(f\"Repository cloned to {repo_dir}\")\n",
        "else:\n",
        "    print(f\"Repository already exists at {repo_dir}\")\n"
      ],
      "metadata": {
        "id": "f2H3SVccMGT4"
      },
      "execution_count": null,
      "outputs": []
    },
    {
      "cell_type": "code",
      "source": [
        "# Parse Python files using AST\n",
        "def parse_python_file(file_path):\n",
        "    \"\"\"Parse a Python file and print its functions and classes.\"\"\"\n",
        "    with open(file_path, \"r\", encoding=\"utf-8\") as f:\n",
        "        file_content = f.read()\n",
        "    tree = ast.parse(file_content)\n",
        "\n",
        "    functions = [node.name for node in ast.walk(tree) if isinstance(node, ast.FunctionDef)]\n",
        "    classes = [node.name for node in ast.walk(tree) if isinstance(node, ast.ClassDef)]\n",
        "\n",
        "    print(f\"\\nFile: {file_path}\")\n",
        "    print(f\"Functions: {functions}\")\n",
        "    print(f\"Classes: {classes}\")"
      ],
      "metadata": {
        "id": "LJcSForRM3ds"
      },
      "execution_count": null,
      "outputs": []
    },
    {
      "cell_type": "code",
      "execution_count": null,
      "metadata": {
        "id": "Nr4X7cvJL_aU"
      },
      "outputs": [],
      "source": [
        "\n",
        "# Walk through the repo and parse all .py files\n",
        "for root, dirs, files in os.walk(repo_dir):\n",
        "    for file in files:\n",
        "        if file.endswith(\".py\"):\n",
        "            file_path = os.path.join(root, file)\n",
        "            parse_python_file(file_path)\n"
      ]
    }
  ]
}